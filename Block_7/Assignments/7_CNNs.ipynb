{
  "nbformat": 4,
  "nbformat_minor": 0,
  "metadata": {
    "colab": {
      "name": "Exercise_2 .ipynb",
      "provenance": []
    },
    "kernelspec": {
      "display_name": "Python 3",
      "language": "python",
      "name": "python3"
    },
    "language_info": {
      "codemirror_mode": {
        "name": "ipython",
        "version": 3
      },
      "file_extension": ".py",
      "mimetype": "text/x-python",
      "name": "python",
      "nbconvert_exporter": "python",
      "pygments_lexer": "ipython3",
      "version": "3.7.6"
    },
    "accelerator": "GPU"
  },
  "cells": [
    {
      "cell_type": "markdown",
      "metadata": {
        "id": "NgYV9F8IE2L_"
      },
      "source": [
        "# Assignment - Image Classification with CNNs\n",
        "![CIFAR10](https://miro.medium.com/max/964/1*syyml8q8s1Yt-iEea5m1Ag.png)\n",
        "\n",
        "[CIFAR 10](https://www.cs.toronto.edu/~kriz/cifar.html) is a small toy data set for image classifaction. \n",
        "\n",
        "* It has 60k images from ten diffenrent classes (like car, airplane, horse,..)\n",
        "* The RGB images are of size 32x32 pixels  "
      ]
    },
    {
      "cell_type": "code",
      "metadata": {
        "colab": {
          "base_uri": "https://localhost:8080/"
        },
        "id": "GiDFXXcUEy-G",
        "outputId": "fabd29d8-be61-4324-cea1-b7ac2ea168c9"
      },
      "source": [
        "#import needed libs\n",
        "from __future__ import print_function\n",
        "import keras\n",
        "from keras.datasets import cifar10\n",
        "from keras.preprocessing.image import ImageDataGenerator\n",
        "from keras.models import Sequential\n",
        "from keras.layers import Dense, Dropout, Activation, Flatten\n",
        "from keras.layers import Conv2D, MaxPooling2D\n",
        "import os\n",
        "import tensorflow as tf\n",
        "import matplotlib.pyplot as plt\n",
        "\n",
        "#some vars to controll the training -> use them in your code\n",
        "batch_size = 32\n",
        "num_classes = 10 #fixed!\n",
        "epochs = 10\n",
        "\n",
        "# Get the data, split between train and test sets:\n",
        "(x_train, y_train), (x_test, y_test) = cifar10.load_data()\n",
        "print('x_train shape:', x_train.shape)\n",
        "print(x_train.shape[0], 'train samples')\n",
        "print(x_test.shape[0], 'test samples')\n",
        "\n",
        "# Convert class vectors to binary class matrices.\n",
        "y_train = keras.utils.to_categorical(y_train, num_classes)\n",
        "y_test = keras.utils.to_categorical(y_test, num_classes)"
      ],
      "execution_count": 125,
      "outputs": [
        {
          "output_type": "stream",
          "text": [
            "x_train shape: (50000, 32, 32, 3)\n",
            "50000 train samples\n",
            "10000 test samples\n"
          ],
          "name": "stdout"
        }
      ]
    },
    {
      "cell_type": "markdown",
      "metadata": {
        "id": "vmocaCkIGOIR"
      },
      "source": [
        "## Task:\n",
        "* visualize some sample images from different classes\n",
        "* build and train the ***AlexNet*** CNN architecture from the lecture, use the following Keras layers:\n",
        "    * overview: https://keras.io/api/layers/\n",
        "    * 2d convolution: https://keras.io/api/layers/convolution_layers/convolution2d/\n",
        "    * Fully Connected (=Matrix Multiplication MLP): https://keras.io/api/layers/core_layers/dense/\n",
        "    * Pooling: https://keras.io/api/layers/pooling_layers/max_pooling2d/   \n",
        "* use 'relu' functions for the non-linear activation -> https://keras.io/api/layers/activation_layers/relu/\n",
        "* optimize the learning hyper-paramters to get the best  test accuracy"
      ]
    },
    {
      "cell_type": "code",
      "metadata": {
        "id": "ymHyL-7_uWDq"
      },
      "source": [
        "#Class Names\n",
        "classes= ['airplane', 'automobile', 'bird', 'cat', 'deer', 'dog', 'frog', 'horse', 'ship', 'truck']"
      ],
      "execution_count": 126,
      "outputs": []
    },
    {
      "cell_type": "code",
      "metadata": {
        "id": "pMkb9HDu8gfW"
      },
      "source": [
        "#Create validation data\n",
        "x_val, y_val = x_train[:5000], y_train[:5000]\n",
        "x_train, y_train = x_train[5000:], y_train[5000:]"
      ],
      "execution_count": 127,
      "outputs": []
    },
    {
      "cell_type": "code",
      "metadata": {
        "id": "5SPcURm89iSP"
      },
      "source": [
        "#Convert Data to TensorFlow\n",
        "train_data = tf.data.Dataset.from_tensor_slices((x_train, y_train))\n",
        "test_data = tf.data.Dataset.from_tensor_slices((x_test, y_test))\n",
        "val_data = tf.data.Dataset.from_tensor_slices((x_val,y_val))"
      ],
      "execution_count": 128,
      "outputs": []
    },
    {
      "cell_type": "code",
      "metadata": {
        "id": "WTYNht8N-qye",
        "outputId": "34dba4a2-6e9d-4b83-ad35-4d16b164919d",
        "colab": {
          "base_uri": "https://localhost:8080/",
          "height": 272
        }
      },
      "source": [
        "# plot images\n",
        "plt.figure(figsize=(32,32))\n",
        "for i, (image, label) in enumerate(train_data.take(5)):\n",
        "    ax = plt.subplot(5,5,i+1)\n",
        "    plt.imshow(image)"
      ],
      "execution_count": 129,
      "outputs": [
        {
          "output_type": "display_data",
          "data": {
            "image/png": "[encoded data removed]",
            "text/plain": [
              "<Figure size 2304x2304 with 5 Axes>"
            ]
          },
          "metadata": {
            "tags": [],
            "needs_background": "light"
          }
        }
      ]
    },
    {
      "cell_type": "code",
      "metadata": {
        "id": "75rYYjze_gi5"
      },
      "source": [
        "def process_images(image, label):\n",
        "    # Normalize images to have a mean of 0 and standard deviation of 1\n",
        "    image = tf.image.per_image_standardization(image)\n",
        "    return image, label"
      ],
      "execution_count": 130,
      "outputs": []
    },
    {
      "cell_type": "code",
      "metadata": {
        "id": "VcniOr4GBVIf",
        "outputId": "b0baa6a4-ea75-4aea-f61c-c66427218ad4",
        "colab": {
          "base_uri": "https://localhost:8080/"
        }
      },
      "source": [
        "#sizes of the data\n",
        "train_data_size = tf.data.experimental.cardinality(train_data).numpy()\n",
        "test_data_size = tf.data.experimental.cardinality(test_data).numpy()\n",
        "val_data_size = tf.data.experimental.cardinality(val_data).numpy()\n",
        "print(\"Training data size:\", train_data_size)\n",
        "print(\"Test data size:\", test_data_size)\n",
        "print(\"Validation data size:\", val_data_size)"
      ],
      "execution_count": 131,
      "outputs": [
        {
          "output_type": "stream",
          "text": [
            "Training data size: 45000\n",
            "Test data size: 10000\n",
            "Validation data size: 5000\n"
          ],
          "name": "stdout"
        }
      ]
    },
    {
      "cell_type": "code",
      "metadata": {
        "id": "H453YghzB4RX"
      },
      "source": [
        "#Preprocessing\n",
        "train_data = (train_data\n",
        "                  .map(process_images)\n",
        "                  .shuffle(buffer_size=train_data_size)\n",
        "                  .batch(batch_size=batch_size, drop_remainder=True))\n",
        "test_data = (test_data\n",
        "                  .map(process_images)\n",
        "                  .shuffle(buffer_size=train_data_size)\n",
        "                  .batch(batch_size=batch_size, drop_remainder=True))\n",
        "val_data = (val_data\n",
        "                  .map(process_images)\n",
        "                  .shuffle(buffer_size=train_data_size)\n",
        "                  .batch(batch_size=batch_size, drop_remainder=True))\n"
      ],
      "execution_count": 132,
      "outputs": []
    },
    {
      "cell_type": "code",
      "metadata": {
        "id": "bfMpr9PVFk3u"
      },
      "source": [
        "inputs = keras.Input(shape=(32,32,3))"
      ],
      "execution_count": 133,
      "outputs": []
    },
    {
      "cell_type": "code",
      "metadata": {
        "id": "LQRti-WwDbPS"
      },
      "source": [
        "#build model\n",
        "l1=keras.layers.Conv2D(filters=32, kernel_size=(5,5),strides=(4,4),activation='relu')(inputs)\n",
        "l2=keras.layers.BatchNormalization()(l1)\n",
        "l3=keras.layers.MaxPool2D(pool_size=(3,3),strides=(1,1))(l2)\n",
        "l4=keras.layers.Conv2D(filters=64, kernel_size=(5,5),strides=(1,1),activation='relu',padding='same')(l3)\n",
        "l5=keras.layers.BatchNormalization()(l4)\n",
        "l6=keras.layers.MaxPool2D(pool_size=(3,3),strides=(1,1))(l5)\n",
        "l7=keras.layers.Conv2D(filters=32, kernel_size=(3,3),strides=(1,1), activation='relu', padding='same')(l6)\n",
        "l8=keras.layers.BatchNormalization()(l7)\n",
        "l9=keras.layers.MaxPool2D(pool_size=(1,1),strides=(2,2))(l8)\n",
        "l10=keras.layers.Flatten()(l9)\n",
        "l11=keras.layers.Dense(256, activation='relu')(l10)\n",
        "l12=keras.layers.Dropout(0.5)(l11)\n",
        "outputs=keras.layers.Dense(num_classes,activation='softmax')(l12)"
      ],
      "execution_count": 134,
      "outputs": []
    },
    {
      "cell_type": "code",
      "metadata": {
        "id": "wY_cxYW5GXwk"
      },
      "source": [
        "model = keras.Model(inputs=inputs,outputs=outputs)"
      ],
      "execution_count": 135,
      "outputs": []
    },
    {
      "cell_type": "code",
      "metadata": {
        "id": "w0D2ygteMCwy",
        "outputId": "bddabbbb-e35e-4c43-8439-d9ee495b0e96",
        "colab": {
          "base_uri": "https://localhost:8080/"
        }
      },
      "source": [
        "model.summary()"
      ],
      "execution_count": 136,
      "outputs": [
        {
          "output_type": "stream",
          "text": [
            "Model: \"model_11\"\n",
            "_________________________________________________________________\n",
            "Layer (type)                 Output Shape              Param #   \n",
            "=================================================================\n",
            "input_3 (InputLayer)         [(None, 32, 32, 3)]       0         \n",
            "_________________________________________________________________\n",
            "conv2d_84 (Conv2D)           (None, 7, 7, 32)          2432      \n",
            "_________________________________________________________________\n",
            "batch_normalization_75 (Batc (None, 7, 7, 32)          128       \n",
            "_________________________________________________________________\n",
            "max_pooling2d_75 (MaxPooling (None, 5, 5, 32)          0         \n",
            "_________________________________________________________________\n",
            "conv2d_85 (Conv2D)           (None, 5, 5, 64)          51264     \n",
            "_________________________________________________________________\n",
            "batch_normalization_76 (Batc (None, 5, 5, 64)          256       \n",
            "_________________________________________________________________\n",
            "max_pooling2d_76 (MaxPooling (None, 3, 3, 64)          0         \n",
            "_________________________________________________________________\n",
            "conv2d_86 (Conv2D)           (None, 3, 3, 32)          18464     \n",
            "_________________________________________________________________\n",
            "batch_normalization_77 (Batc (None, 3, 3, 32)          128       \n",
            "_________________________________________________________________\n",
            "max_pooling2d_77 (MaxPooling (None, 2, 2, 32)          0         \n",
            "_________________________________________________________________\n",
            "flatten_13 (Flatten)         (None, 128)               0         \n",
            "_________________________________________________________________\n",
            "dense_26 (Dense)             (None, 256)               33024     \n",
            "_________________________________________________________________\n",
            "dropout_13 (Dropout)         (None, 256)               0         \n",
            "_________________________________________________________________\n",
            "dense_27 (Dense)             (None, 10)                2570      \n",
            "=================================================================\n",
            "Total params: 108,266\n",
            "Trainable params: 108,010\n",
            "Non-trainable params: 256\n",
            "_________________________________________________________________\n"
          ],
          "name": "stdout"
        }
      ]
    },
    {
      "cell_type": "code",
      "metadata": {
        "id": "twIgNWOrMHAg"
      },
      "source": [
        "#compile model\n",
        "model.compile(loss='categorical_crossentropy', optimizer='rmsprop', metrics=['accuracy'])\n"
      ],
      "execution_count": 137,
      "outputs": []
    },
    {
      "cell_type": "code",
      "metadata": {
        "id": "eyJXfDatNMCt",
        "outputId": "bab163b7-a32d-4bd2-f609-9db5c5950fd7",
        "colab": {
          "base_uri": "https://localhost:8080/"
        }
      },
      "source": [
        "model.fit(train_data,batch_size=batch_size,epochs=epochs)"
      ],
      "execution_count": 138,
      "outputs": [
        {
          "output_type": "stream",
          "text": [
            "Epoch 1/10\n",
            "1406/1406 [==============================] - 8s 4ms/step - loss: 1.9064 - accuracy: 0.3131\n",
            "Epoch 2/10\n",
            "1406/1406 [==============================] - 7s 4ms/step - loss: 1.5372 - accuracy: 0.4544\n",
            "Epoch 3/10\n",
            "1406/1406 [==============================] - 7s 4ms/step - loss: 1.4147 - accuracy: 0.5013\n",
            "Epoch 4/10\n",
            "1406/1406 [==============================] - 7s 4ms/step - loss: 1.3525 - accuracy: 0.5236\n",
            "Epoch 5/10\n",
            "1406/1406 [==============================] - 7s 4ms/step - loss: 1.2886 - accuracy: 0.5488\n",
            "Epoch 6/10\n",
            "1406/1406 [==============================] - 7s 4ms/step - loss: 1.2419 - accuracy: 0.5679\n",
            "Epoch 7/10\n",
            "1406/1406 [==============================] - 7s 4ms/step - loss: 1.1977 - accuracy: 0.5868\n",
            "Epoch 8/10\n",
            "1406/1406 [==============================] - 7s 4ms/step - loss: 1.1606 - accuracy: 0.5950\n",
            "Epoch 9/10\n",
            "1406/1406 [==============================] - 7s 4ms/step - loss: 1.1321 - accuracy: 0.6035\n",
            "Epoch 10/10\n",
            "1406/1406 [==============================] - 7s 4ms/step - loss: 1.1017 - accuracy: 0.6165\n"
          ],
          "name": "stdout"
        },
        {
          "output_type": "execute_result",
          "data": {
            "text/plain": [
              "<tensorflow.python.keras.callbacks.History at 0x7f515a731990>"
            ]
          },
          "metadata": {
            "tags": []
          },
          "execution_count": 138
        }
      ]
    },
    {
      "cell_type": "code",
      "metadata": {
        "id": "7MChzoAKNm4h",
        "outputId": "2e11e8af-3732-45d3-dd61-11e161f54b62",
        "colab": {
          "base_uri": "https://localhost:8080/"
        }
      },
      "source": [
        "model.evaluate(test_data)"
      ],
      "execution_count": 139,
      "outputs": [
        {
          "output_type": "stream",
          "text": [
            "312/312 [==============================] - 1s 2ms/step - loss: 1.3640 - accuracy: 0.5429\n"
          ],
          "name": "stdout"
        },
        {
          "output_type": "execute_result",
          "data": {
            "text/plain": [
              "[1.3640096187591553, 0.5428686141967773]"
            ]
          },
          "metadata": {
            "tags": []
          },
          "execution_count": 139
        }
      ]
    },
    {
      "cell_type": "code",
      "metadata": {
        "id": "Y77gQsuIVV6D"
      },
      "source": [
        ""
      ],
      "execution_count": null,
      "outputs": []
    }
  ]
}